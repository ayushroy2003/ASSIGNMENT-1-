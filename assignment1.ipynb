{
 "cells": [
  {
   "cell_type": "markdown",
   "id": "0899b4dd-a5d2-4155-91bb-9bb87766c866",
   "metadata": {},
   "source": [
    "Q1. Create one variable containing following type of data:\n",
    "(i) string\n",
    "\n",
    "(ii) list\n",
    "\n",
    "(iii) float\n",
    "\n",
    "(iv) tuple"
   ]
  },
  {
   "cell_type": "code",
   "execution_count": 1,
   "id": "63aa0bdb-3471-434a-a8d9-3245f4c26d74",
   "metadata": {},
   "outputs": [],
   "source": [
    "# (i) string\n",
    "s = \"hello this is string\""
   ]
  },
  {
   "cell_type": "code",
   "execution_count": 2,
   "id": "0eef2e85-d728-4385-ab8b-57220f55580b",
   "metadata": {},
   "outputs": [],
   "source": [
    "# (ii) list\n",
    "l = [2,4,5,6,7,8,]"
   ]
  },
  {
   "cell_type": "code",
   "execution_count": 3,
   "id": "55c6da73-7768-456d-a278-100475d15cfb",
   "metadata": {},
   "outputs": [],
   "source": [
    "# (iii) float\n",
    "f = 52.56"
   ]
  },
  {
   "cell_type": "code",
   "execution_count": 4,
   "id": "901b5828-b90a-4f88-81ed-48fce7acf25a",
   "metadata": {},
   "outputs": [],
   "source": [
    "# (iv) tuple\n",
    "t = (10, 20, 30, 40)"
   ]
  },
  {
   "cell_type": "markdown",
   "id": "5f0790e8-a773-42c4-9490-bf58cd6308f8",
   "metadata": {},
   "source": [
    "Q2. Given are some following variables containing data:\n",
    "\n",
    "(i) var1 = ‘ ‘\n",
    "\n",
    "(ii) var2 = ‘[ DS , ML , Python]’\n",
    "\n",
    "(iii) var3 = [ ‘DS’ , ’ML’ , ‘Python’ ]\n",
    "\n",
    "(iv) var4 = 1.\n",
    "\n",
    "\n",
    "What will be the data type of the above given variable.\n",
    "\n",
    "ANSWER\n",
    "\n",
    "(i) var1: String\n",
    "\n",
    "(ii) var2: String\n",
    "\n",
    "(iii) var3: List\n",
    "\n",
    "(iv) var4: Integer\n",
    " \n",
    " \n",
    "\n"
   ]
  },
  {
   "cell_type": "markdown",
   "id": "c780f67e-2b4d-4cc3-b97d-d12de0ae051e",
   "metadata": {},
   "source": [
    "Q 3 \n",
    "Create a list of length 10 of your choice containing multiple types of data. Using for loop print the\n",
    "element and its data type.\n"
   ]
  },
  {
   "cell_type": "code",
   "execution_count": 10,
   "id": "c9a1bc0b-1537-430b-98f5-ba2c97077769",
   "metadata": {},
   "outputs": [],
   "source": [
    "# LIST OF LENGTH 10 WITH MULTIPLE DATA TYPE\n",
    "LIST = [42, \"Hello\", 3.14, True, [1, 2, 3], {'a': 1, 'b': 2}, None, (10, 20), \"Python\", False]\n"
   ]
  },
  {
   "cell_type": "code",
   "execution_count": 11,
   "id": "be3e9634-6304-4bb7-ad7c-95f744a8c7c0",
   "metadata": {},
   "outputs": [
    {
     "name": "stdout",
     "output_type": "stream",
     "text": [
      "<class 'int'>\n",
      "<class 'str'>\n",
      "<class 'float'>\n",
      "<class 'bool'>\n",
      "<class 'list'>\n",
      "<class 'dict'>\n",
      "<class 'NoneType'>\n",
      "<class 'tuple'>\n",
      "<class 'str'>\n",
      "<class 'bool'>\n"
     ]
    }
   ],
   "source": [
    "for i in LIST :\n",
    "    print(type(i))"
   ]
  },
  {
   "cell_type": "markdown",
   "id": "24feb390-1237-4bdd-be7b-93564fd1ca5f",
   "metadata": {},
   "source": [
    "Q 5\n",
    "\n",
    "Using a while loop, verify if the number A is purely divisible by number B and if so then how many\n",
    "times it can be divisible.\n",
    "\n",
    "\n",
    "ANSWER\n"
   ]
  },
  {
   "cell_type": "code",
   "execution_count": 7,
   "id": "c537b980-2638-4722-bb5a-21ab871dd3ad",
   "metadata": {},
   "outputs": [
    {
     "name": "stdin",
     "output_type": "stream",
     "text": [
      "Enter a number A:  240\n",
      "Enter a number B:  4\n"
     ]
    },
    {
     "name": "stdout",
     "output_type": "stream",
     "text": [
      "15 is purely divisible by 4.\n",
      "It can be divided 2 times.\n"
     ]
    }
   ],
   "source": [
    "A = int(input(\"Enter a number A: \"))\n",
    "B = int(input(\"Enter a number B: \"))\n",
    "\n",
    "count = 0\n",
    "while A >= B and A % B == 0:\n",
    "    count += 1\n",
    "    A //= B\n",
    "\n",
    "if count > 0:\n",
    "    print(f\"{A} is purely divisible by {B}.\")\n",
    "    print(f\"It can be divided {count} times.\")\n",
    "else:\n",
    "    print(f\"{A} is not purely divisible by {B}.\")\n"
   ]
  },
  {
   "cell_type": "markdown",
   "id": "f292b8e4-6cc6-42b0-8050-c6c1a58b1ccc",
   "metadata": {},
   "source": [
    "Q 6\n",
    "\n",
    "\n",
    "Create a list containing 25 int type data. Using for loop and if-else condition print if the element is\n",
    "divisible by 3 or not.\n",
    "\n",
    "\n",
    "ANSWER\n"
   ]
  },
  {
   "cell_type": "code",
   "execution_count": 18,
   "id": "c6a1206a-9003-42d9-aa31-8940a662a5d0",
   "metadata": {},
   "outputs": [
    {
     "name": "stdout",
     "output_type": "stream",
     "text": [
      "4 is not divisible by 3.\n",
      "9 is divisible by 3.\n",
      "12 is divisible by 3.\n",
      "15 is divisible by 3.\n",
      "18 is divisible by 3.\n",
      "21 is divisible by 3.\n",
      "24 is divisible by 3.\n",
      "27 is divisible by 3.\n",
      "30 is divisible by 3.\n",
      "33 is divisible by 3.\n",
      "36 is divisible by 3.\n",
      "39 is divisible by 3.\n",
      "42 is divisible by 3.\n",
      "45 is divisible by 3.\n",
      "48 is divisible by 3.\n",
      "51 is divisible by 3.\n",
      "54 is divisible by 3.\n",
      "57 is divisible by 3.\n",
      "60 is divisible by 3.\n",
      "63 is divisible by 3.\n",
      "66 is divisible by 3.\n",
      "69 is divisible by 3.\n",
      "72 is divisible by 3.\n",
      "75 is divisible by 3.\n",
      "78 is divisible by 3.\n"
     ]
    }
   ],
   "source": [
    "# Create a list of 25 integer data\n",
    "my_list = [4, 9, 12, 15, 18, 21, 24, 27, 30, 33, 36, 39, 42, 45, 48, 51, 54, 57, 60, 63, 66, 69, 72, 75, 78]\n",
    "\n",
    "# Using for loop and if-else condition to check divisibility by 3\n",
    "for num in my_list:\n",
    "    if num % 3 == 0:\n",
    "        print(f\"{num} is divisible by 3.\")\n",
    "    else:\n",
    "        print(f\"{num} is not divisible by 3.\")\n"
   ]
  },
  {
   "cell_type": "code",
   "execution_count": null,
   "id": "143c422c-e9ef-4963-bc5d-b63ff24255bc",
   "metadata": {},
   "outputs": [],
   "source": []
  },
  {
   "cell_type": "markdown",
   "id": "b8544a9e-f33c-4122-965f-b1c58af89bc5",
   "metadata": {},
   "source": [
    "Q7. What do you understand about mutable and immutable data types? Give examples for both showing\n",
    "this property.\n",
    "\n",
    "ANSWER\n"
   ]
  },
  {
   "cell_type": "markdown",
   "id": "d27265d2-8e2f-44e0-a421-377598177a5f",
   "metadata": {},
   "source": [
    "Immutable Data Types:\n",
    "Immutable data types are objects whose state cannot be changed after they are created. When you modify an immutable object, a new object is created with the updated value. This means that the original object remains unchanged\n",
    " \n",
    "EXAMPLE\n"
   ]
  },
  {
   "cell_type": "code",
   "execution_count": 21,
   "id": "7f245e26-186a-450c-b701-f26f9e65320f",
   "metadata": {},
   "outputs": [],
   "source": [
    "s = 'kran'"
   ]
  },
  {
   "cell_type": "code",
   "execution_count": 24,
   "id": "911e6412-6ddf-407a-9c9b-5dbd3a7d9fa5",
   "metadata": {},
   "outputs": [
    {
     "ename": "TypeError",
     "evalue": "'str' object does not support item assignment",
     "output_type": "error",
     "traceback": [
      "\u001b[0;31m---------------------------------------------------------------------------\u001b[0m",
      "\u001b[0;31mTypeError\u001b[0m                                 Traceback (most recent call last)",
      "Cell \u001b[0;32mIn[24], line 1\u001b[0m\n\u001b[0;32m----> 1\u001b[0m \u001b[43ms\u001b[49m\u001b[43m[\u001b[49m\u001b[38;5;241;43m1\u001b[39;49m\u001b[43m]\u001b[49m\u001b[38;5;241m=\u001b[39m \u001b[38;5;124m'\u001b[39m\u001b[38;5;124ma\u001b[39m\u001b[38;5;124m'\u001b[39m\n",
      "\u001b[0;31mTypeError\u001b[0m: 'str' object does not support item assignment"
     ]
    }
   ],
   "source": [
    "s[1]= 'a'"
   ]
  },
  {
   "cell_type": "markdown",
   "id": "a303b8a1-518e-4d35-8755-53d311f976ab",
   "metadata": {},
   "source": [
    "Mutable Data Types:\n",
    "Mutable data types are objects whose state can be modified after they are created. When you modify a mutable object, the changes are made in-place, and the original object is updated without creating a new object.\n",
    "\n",
    "Examples "
   ]
  },
  {
   "cell_type": "code",
   "execution_count": 25,
   "id": "3386495c-b826-43c3-9544-d99cf4b9a1c1",
   "metadata": {},
   "outputs": [],
   "source": [
    "l= [22,3,45,5,7,7,5,4,]"
   ]
  },
  {
   "cell_type": "code",
   "execution_count": 26,
   "id": "36d18f5e-2970-45dc-aa52-79534a4cf5d7",
   "metadata": {},
   "outputs": [],
   "source": [
    "l[2] = 400"
   ]
  },
  {
   "cell_type": "code",
   "execution_count": 27,
   "id": "92da896f-750a-426d-ab8a-f67ffcaa5029",
   "metadata": {},
   "outputs": [
    {
     "data": {
      "text/plain": [
       "[22, 3, 400, 5, 7, 7, 5, 4]"
      ]
     },
     "execution_count": 27,
     "metadata": {},
     "output_type": "execute_result"
    }
   ],
   "source": [
    "l"
   ]
  },
  {
   "cell_type": "markdown",
   "id": "f5480fef-3a0f-4e12-83ce-328bb79b4464",
   "metadata": {},
   "source": [
    "COMPLETED WEEK 1 ASSIGNMENT \n",
    " "
   ]
  },
  {
   "cell_type": "code",
   "execution_count": null,
   "id": "90a89dda-0900-42b0-86f0-da32c099aaa0",
   "metadata": {},
   "outputs": [],
   "source": []
  }
 ],
 "metadata": {
  "kernelspec": {
   "display_name": "Python 3 (ipykernel)",
   "language": "python",
   "name": "python3"
  },
  "language_info": {
   "codemirror_mode": {
    "name": "ipython",
    "version": 3
   },
   "file_extension": ".py",
   "mimetype": "text/x-python",
   "name": "python",
   "nbconvert_exporter": "python",
   "pygments_lexer": "ipython3",
   "version": "3.10.8"
  }
 },
 "nbformat": 4,
 "nbformat_minor": 5
}
